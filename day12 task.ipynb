{
 "cells": [
  {
   "cell_type": "code",
   "execution_count": 1,
   "id": "d44a3a28",
   "metadata": {},
   "outputs": [],
   "source": [
    "# python functions"
   ]
  },
  {
   "cell_type": "code",
   "execution_count": 2,
   "id": "61feb303",
   "metadata": {},
   "outputs": [
    {
     "name": "stdout",
     "output_type": "stream",
     "text": [
      "Hello\n"
     ]
    }
   ],
   "source": [
    "def greet():\n",
    "    print('Hello')\n",
    "greet()"
   ]
  },
  {
   "cell_type": "code",
   "execution_count": 3,
   "id": "1548deca",
   "metadata": {},
   "outputs": [
    {
     "name": "stdout",
     "output_type": "stream",
     "text": [
      "Hello\n"
     ]
    }
   ],
   "source": [
    "greet()"
   ]
  },
  {
   "cell_type": "code",
   "execution_count": 4,
   "id": "15112ecd",
   "metadata": {},
   "outputs": [
    {
     "name": "stdout",
     "output_type": "stream",
     "text": [
      "Hello, Priyanka\n"
     ]
    }
   ],
   "source": [
    "def greet(username):\n",
    "    print(f\"Hello, {username.title()}\")\n",
    "greet('Priyanka')"
   ]
  },
  {
   "cell_type": "code",
   "execution_count": 5,
   "id": "3e19e9ea",
   "metadata": {},
   "outputs": [
    {
     "name": "stdout",
     "output_type": "stream",
     "text": [
      "Hello, Swathi\n"
     ]
    }
   ],
   "source": [
    "greet('Swathi') "
   ]
  },
  {
   "cell_type": "code",
   "execution_count": 6,
   "id": "bfd1bd9f",
   "metadata": {},
   "outputs": [],
   "source": [
    "# Positional arguments"
   ]
  },
  {
   "cell_type": "code",
   "execution_count": 9,
   "id": "10c1e508",
   "metadata": {},
   "outputs": [
    {
     "name": "stdout",
     "output_type": "stream",
     "text": [
      "I have a dog\n",
      "My dog's name is Rufi\n"
     ]
    }
   ],
   "source": [
    "def describe_pet(animal_type, pet_name):\n",
    "    print(f\"I have a {animal_type}\")\n",
    "    print(f\"My {animal_type}'s name is {pet_name}\")\n",
    "describe_pet('dog', 'Rufi')"
   ]
  },
  {
   "cell_type": "code",
   "execution_count": 10,
   "id": "3328185d",
   "metadata": {},
   "outputs": [
    {
     "name": "stdout",
     "output_type": "stream",
     "text": [
      "I have a browny\n",
      "My browny's name is cat\n"
     ]
    }
   ],
   "source": [
    "describe_pet('browny', 'cat')"
   ]
  },
  {
   "cell_type": "code",
   "execution_count": 11,
   "id": "e5cd7973",
   "metadata": {},
   "outputs": [],
   "source": [
    "# Keyword arguments"
   ]
  },
  {
   "cell_type": "code",
   "execution_count": 12,
   "id": "2e4034a4",
   "metadata": {},
   "outputs": [
    {
     "name": "stdout",
     "output_type": "stream",
     "text": [
      "I have a cat\n",
      "My cat's name is browny\n"
     ]
    }
   ],
   "source": [
    "describe_pet(pet_name='browny', animal_type='cat')"
   ]
  },
  {
   "cell_type": "code",
   "execution_count": null,
   "id": "e04d5880",
   "metadata": {},
   "outputs": [],
   "source": []
  }
 ],
 "metadata": {
  "kernelspec": {
   "display_name": "Python 3 (ipykernel)",
   "language": "python",
   "name": "python3"
  },
  "language_info": {
   "codemirror_mode": {
    "name": "ipython",
    "version": 3
   },
   "file_extension": ".py",
   "mimetype": "text/x-python",
   "name": "python",
   "nbconvert_exporter": "python",
   "pygments_lexer": "ipython3",
   "version": "3.9.7"
  }
 },
 "nbformat": 4,
 "nbformat_minor": 5
}
